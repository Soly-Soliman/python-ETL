{
 "cells": [
  {
   "cell_type": "code",
   "execution_count": 26,
   "id": "929b5303-c4f1-48a4-b6fd-c9e037bb3177",
   "metadata": {},
   "outputs": [],
   "source": [
    "import glob \n",
    "import pandas as pd \n",
    "import xml.etree.ElementTree as ET \n",
    "from datetime import datetime"
   ]
  },
  {
   "cell_type": "code",
   "execution_count": 27,
   "id": "c9ce918b-4fca-4c3c-897d-cd41d7a3d253",
   "metadata": {},
   "outputs": [],
   "source": [
    "\n",
    "log_file = \"log_file.txt\" \n",
    "target_file = \"transformed_data.csv\" "
   ]
  },
  {
   "cell_type": "code",
   "execution_count": 28,
   "id": "eef1ca1e-1d6e-48de-8664-360136a440a5",
   "metadata": {},
   "outputs": [],
   "source": [
    "def extract_from_csv(file_to_process): \n",
    "    dataframe = pd.read_csv(file_to_process) \n",
    "    return dataframe "
   ]
  },
  {
   "cell_type": "code",
   "execution_count": 29,
   "id": "521077c5-96f2-403c-85d6-d7459490156f",
   "metadata": {},
   "outputs": [],
   "source": [
    "def extract_from_json(file_to_process): \n",
    "    dataframe = pd.read_json(file_to_process, lines=True) \n",
    "    return dataframe \n"
   ]
  },
  {
   "cell_type": "code",
   "execution_count": 30,
   "id": "8a2f6904-59b5-4eb7-9635-9fb69cf14b3b",
   "metadata": {},
   "outputs": [],
   "source": [
    "def extract_from_xml(file_to_process): \n",
    "    dataframe = pd.DataFrame(columns=[\"name\", \"height\", \"weight\"]) \n",
    "    tree = ET.parse(file_to_process) \n",
    "    root = tree.getroot() \n",
    "    for person in root: \n",
    "        name = person.find(\"name\").text \n",
    "        height = float(person.find(\"height\").text) \n",
    "        weight = float(person.find(\"weight\").text) \n",
    "        dataframe = pd.concat([dataframe, pd.DataFrame([{\"name\":name, \"height\":height, \"weight\":weight}])], ignore_index=True) \n",
    "    return dataframe \n"
   ]
  },
  {
   "cell_type": "code",
   "execution_count": 31,
   "id": "fd31ce72-6aee-4bac-bda4-8fdffe2133a3",
   "metadata": {},
   "outputs": [],
   "source": [
    "def extract(): \n",
    "    extracted_data = pd.DataFrame(columns=['name','height','weight']) # create an empty data frame to hold extracted data \n",
    "     \n",
    "    # process all csv files \n",
    "    for csvfile in glob.glob(\"*.csv\"): \n",
    "        extracted_data = pd.concat([extracted_data, pd.DataFrame(extract_from_csv(csvfile))], ignore_index=True) \n",
    "         \n",
    "    # process all json files \n",
    "    for jsonfile in glob.glob(\"*.json\"): \n",
    "        extracted_data = pd.concat([extracted_data, pd.DataFrame(extract_from_json(jsonfile))], ignore_index=True) \n",
    "     \n",
    "    # process all xml files \n",
    "    for xmlfile in glob.glob(\"*.xml\"): \n",
    "        extracted_data = pd.concat([extracted_data, pd.DataFrame(extract_from_xml(xmlfile))], ignore_index=True) \n",
    "         \n",
    "    return extracted_data "
   ]
  },
  {
   "cell_type": "code",
   "execution_count": 32,
   "id": "15e936de-0ff2-4fb4-878c-2566cdf7de47",
   "metadata": {},
   "outputs": [],
   "source": [
    "#Transform Part\n",
    "def transform(data): \n",
    "    '''Convert inches to meters and round off to two decimals \n",
    "    1 inch is 0.0254 meters '''\n",
    "    data['height'] = round(data.height * 0.0254,2) \n",
    " \n",
    "    '''Convert pounds to kilograms and round off to two decimals \n",
    "    1 pound is 0.45359237 kilograms '''\n",
    "    data['weight'] = round(data.weight * 0.45359237,2) \n",
    "    \n",
    "    return data "
   ]
  },
  {
   "cell_type": "code",
   "execution_count": 33,
   "id": "49d78544-5bc1-4960-93d3-8898808a6765",
   "metadata": {},
   "outputs": [],
   "source": [
    "#loading Data \n",
    "def load_data(target_file, transformed_data): \n",
    "    transformed_data.to_csv(target_file) \n"
   ]
  },
  {
   "cell_type": "code",
   "execution_count": 46,
   "id": "fb546c57-71ca-4b89-bebf-bae88afdc302",
   "metadata": {},
   "outputs": [],
   "source": [
    "def log_progress(message): \n",
    "    timestamp_format = '%Y-%h-%d-%H:%M:%S' # Year-Monthname-Day-Hour-Minute-Second \n",
    "    now = datetime.now() # get current timestamp \n",
    "    timestamp = now.strftime(timestamp_format) \n",
    "    with open(log_file,\"a\") as f: \n",
    "        f.write(timestamp + ',' + message + '\\n') "
   ]
  },
  {
   "cell_type": "code",
   "execution_count": 35,
   "id": "be98dada-6254-4a45-af47-56ef1f5a3ddc",
   "metadata": {},
   "outputs": [],
   "source": [
    "# Log the initialization of the ETL process \n",
    "log_progress(\"ETL Job Started\") "
   ]
  },
  {
   "cell_type": "code",
   "execution_count": 36,
   "id": "33e1d8e3-7852-4cd7-accf-86f3b06db15f",
   "metadata": {},
   "outputs": [],
   "source": [
    "# Log the beginning of the Extraction process \n",
    "log_progress(\"Extract phase Started\") \n",
    "extracted_data = extract() \n",
    " "
   ]
  },
  {
   "cell_type": "code",
   "execution_count": 37,
   "id": "2cceb15c-29d1-4b01-beb4-07987e243feb",
   "metadata": {},
   "outputs": [],
   "source": [
    "# Log the completion of the Extraction process \n",
    "log_progress(\"Extract phase Ended\") \n",
    " "
   ]
  },
  {
   "cell_type": "code",
   "execution_count": 44,
   "id": "0c24caed-a5e8-4c49-b22a-e0c8535f4c52",
   "metadata": {},
   "outputs": [
    {
     "name": "stdout",
     "output_type": "stream",
     "text": [
      "Transformed Data\n",
      "Empty DataFrame\n",
      "Columns: [name, height, weight, Unnamed: 0]\n",
      "Index: []\n"
     ]
    }
   ],
   "source": [
    "# Log the beginning of the Transformation process \n",
    "log_progress(\"Transform phase Started\") \n",
    "transformed_data = transform(extracted_data) \n",
    "print(\"Transformed Data\") \n",
    "print(transformed_data) "
   ]
  },
  {
   "cell_type": "code",
   "execution_count": 45,
   "id": "5a97342f-192a-41a5-867b-658c1b1e1941",
   "metadata": {},
   "outputs": [],
   "source": [
    " # Log the completion of the Transformation process \n",
    "log_progress(\"Transform phase Ended\") "
   ]
  },
  {
   "cell_type": "code",
   "execution_count": 40,
   "id": "8fbdabf0-d1a6-4cd7-957a-8d2c54f167a4",
   "metadata": {},
   "outputs": [],
   "source": [
    "# Log the beginning of the Loading process \n",
    "log_progress(\"Load phase Started\") \n",
    "load_data(target_file,transformed_data) "
   ]
  },
  {
   "cell_type": "code",
   "execution_count": 41,
   "id": "cc29783f-29d3-4483-a3aa-3b843bc89dba",
   "metadata": {},
   "outputs": [],
   "source": [
    "# Log the completion of the Loading process \n",
    "log_progress(\"Load phase Ended\") "
   ]
  },
  {
   "cell_type": "code",
   "execution_count": 43,
   "id": "5edeec45-927f-4a19-b7ee-7f1c65a54665",
   "metadata": {},
   "outputs": [],
   "source": [
    "# Log the completion of the ETL process \n",
    "log_progress(\"ETL Job Ended\") "
   ]
  },
  {
   "cell_type": "code",
   "execution_count": null,
   "id": "422786f1-0f47-4c6e-a484-3b9a106f3fdd",
   "metadata": {},
   "outputs": [],
   "source": []
  },
  {
   "cell_type": "code",
   "execution_count": null,
   "id": "aec09289-22dd-493e-a681-79f30edc536d",
   "metadata": {},
   "outputs": [],
   "source": []
  }
 ],
 "metadata": {
  "kernelspec": {
   "display_name": "Python 3 (ipykernel)",
   "language": "python",
   "name": "python3"
  },
  "language_info": {
   "codemirror_mode": {
    "name": "ipython",
    "version": 3
   },
   "file_extension": ".py",
   "mimetype": "text/x-python",
   "name": "python",
   "nbconvert_exporter": "python",
   "pygments_lexer": "ipython3",
   "version": "3.11.7"
  }
 },
 "nbformat": 4,
 "nbformat_minor": 5
}
